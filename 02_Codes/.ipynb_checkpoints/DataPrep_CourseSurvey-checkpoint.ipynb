{
 "cells": [
  {
   "cell_type": "code",
   "execution_count": 1,
   "id": "9b8eb572",
   "metadata": {},
   "outputs": [],
   "source": [
    "import pandas as pd\n",
    "import glob\n",
    "import os\n"
   ]
  },
  {
   "cell_type": "markdown",
   "id": "6ce3e389",
   "metadata": {},
   "source": [
    "globbed_files = glob.glob(\"*.csv\") #creates a list of all csv files\n",
    "data = [] # pd.concat takes a list of dataframes as an agrument\n",
    "for csv in globbed_files:\n",
    "    frame = pd.read_csv(csv)\n",
    "    frame['filename'] = os.path.basename(csv)\n",
    "    data.append(frame)"
   ]
  },
  {
   "cell_type": "code",
   "execution_count": null,
   "id": "8b0e44af",
   "metadata": {},
   "outputs": [
    {
     "name": "stderr",
     "output_type": "stream",
     "text": [
      "<ipython-input-5-18d9603bea5f>:10: FutureWarning: The frame.append method is deprecated and will be removed from pandas in a future version. Use pandas.concat instead.\n",
      "  df_total = df_total.append(df_temp)\n",
      "<ipython-input-5-18d9603bea5f>:10: FutureWarning: The frame.append method is deprecated and will be removed from pandas in a future version. Use pandas.concat instead.\n",
      "  df_total = df_total.append(df_temp)\n",
      "<ipython-input-5-18d9603bea5f>:10: FutureWarning: The frame.append method is deprecated and will be removed from pandas in a future version. Use pandas.concat instead.\n",
      "  df_total = df_total.append(df_temp)\n",
      "<ipython-input-5-18d9603bea5f>:10: FutureWarning: The frame.append method is deprecated and will be removed from pandas in a future version. Use pandas.concat instead.\n",
      "  df_total = df_total.append(df_temp)\n",
      "<ipython-input-5-18d9603bea5f>:10: FutureWarning: The frame.append method is deprecated and will be removed from pandas in a future version. Use pandas.concat instead.\n",
      "  df_total = df_total.append(df_temp)\n",
      "<ipython-input-5-18d9603bea5f>:10: FutureWarning: The frame.append method is deprecated and will be removed from pandas in a future version. Use pandas.concat instead.\n",
      "  df_total = df_total.append(df_temp)\n",
      "<ipython-input-5-18d9603bea5f>:10: FutureWarning: The frame.append method is deprecated and will be removed from pandas in a future version. Use pandas.concat instead.\n",
      "  df_total = df_total.append(df_temp)\n",
      "<ipython-input-5-18d9603bea5f>:10: FutureWarning: The frame.append method is deprecated and will be removed from pandas in a future version. Use pandas.concat instead.\n",
      "  df_total = df_total.append(df_temp)\n",
      "<ipython-input-5-18d9603bea5f>:10: FutureWarning: The frame.append method is deprecated and will be removed from pandas in a future version. Use pandas.concat instead.\n",
      "  df_total = df_total.append(df_temp)\n",
      "<ipython-input-5-18d9603bea5f>:10: FutureWarning: The frame.append method is deprecated and will be removed from pandas in a future version. Use pandas.concat instead.\n",
      "  df_total = df_total.append(df_temp)\n"
     ]
    }
   ],
   "source": [
    "path = r'C:\\htdocs\\Project_SPARTA_PH\\01_Data\\Google_Form_Surveys\\Course_Evaluation'\n",
    "files = os.listdir(path)\n",
    "\n",
    "df_total = pd.DataFrame()\n",
    "\n",
    "for file in files:\n",
    "    df_temp = pd.read_excel(path + \"\\\\\" + file)\n",
    "    df_temp['filename'] = file\n",
    "    df_temp['course'] = file.split('_')[1][:-5]\n",
    "    df_total = df_total.append(df_temp)"
   ]
  },
  {
   "cell_type": "code",
   "execution_count": null,
   "id": "a0f881eb",
   "metadata": {},
   "outputs": [],
   "source": []
  }
 ],
 "metadata": {
  "kernelspec": {
   "display_name": "Python 3",
   "language": "python",
   "name": "python3"
  },
  "language_info": {
   "codemirror_mode": {
    "name": "ipython",
    "version": 3
   },
   "file_extension": ".py",
   "mimetype": "text/x-python",
   "name": "python",
   "nbconvert_exporter": "python",
   "pygments_lexer": "ipython3",
   "version": "3.8.8"
  }
 },
 "nbformat": 4,
 "nbformat_minor": 5
}
