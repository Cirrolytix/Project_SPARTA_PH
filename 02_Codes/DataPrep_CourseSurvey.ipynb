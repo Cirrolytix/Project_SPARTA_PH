{
 "cells": [
  {
   "cell_type": "code",
   "execution_count": 2,
   "id": "9b8eb572",
   "metadata": {},
   "outputs": [],
   "source": [
    "import pandas as pd\n",
    "import numpy as np\n",
    "import glob\n",
    "import os\n",
    "import matplotlib.pyplot as plt\n",
    "import sklearn.preprocessing as prep\n",
    "from sklearn.linear_model import LinearRegression\n",
    "lm = LinearRegression()"
   ]
  },
  {
   "cell_type": "code",
   "execution_count": 3,
   "id": "955e26b7",
   "metadata": {},
   "outputs": [
    {
     "name": "stdout",
     "output_type": "stream",
     "text": [
      "Enter the input directoryC:\\htdocs\\Project_SPARTA_PH\\01_Data\\Google_Form_Surveys\\SME_Topic_Evaluation\n"
     ]
    }
   ],
   "source": [
    "#path = r'C:\\htdocs\\Project_SPARTA_PH\\01_Data\\Google_Form_Surveys\\Course_Evaluation'\n",
    "inputdir = input('Enter the input directory')\n",
    "\n",
    "for xlsx_file in glob.glob(os.path.join(inputdir,\"*.xlsx\")):\n",
    "    data_xlsx = pd.read_excel(xlsx_file, index_col=None)\n",
    "    csv_file = os.path.splitext(xlsx_file)[0]+\".csv\"\n",
    "    data_xlsx.to_csv(csv_file, encoding='utf-8', index=False)"
   ]
  },
  {
   "cell_type": "code",
   "execution_count": null,
   "id": "992d8cc0",
   "metadata": {},
   "outputs": [],
   "source": [
    "globbed_files = glob.glob(\"*.csv\") #creates a list of all csv files\n",
    "data = [] # pd.concat takes a list of dataframes as an agrument\n",
    "for csv in globbed_files:\n",
    "    frame = pd.read_csv(csv)\n",
    "    frame['filename'] = os.path.basename(csv)\n",
    "    data.append(frame)"
   ]
  },
  {
   "cell_type": "code",
   "execution_count": null,
   "id": "d03ce4be",
   "metadata": {},
   "outputs": [],
   "source": [
    "df = pd.read_csv(r'C:\\htdocs\\Project_SPARTA_PH\\01_Data\\Google_Form_Surveys\\Course_Evaluation\\conso_courseeval.csv')\n",
    "df"
   ]
  },
  {
   "cell_type": "code",
   "execution_count": null,
   "id": "ed57a9c8",
   "metadata": {},
   "outputs": [],
   "source": []
  }
 ],
 "metadata": {
  "kernelspec": {
   "display_name": "Python 3",
   "language": "python",
   "name": "python3"
  },
  "language_info": {
   "codemirror_mode": {
    "name": "ipython",
    "version": 3
   },
   "file_extension": ".py",
   "mimetype": "text/x-python",
   "name": "python",
   "nbconvert_exporter": "python",
   "pygments_lexer": "ipython3",
   "version": "3.8.8"
  }
 },
 "nbformat": 4,
 "nbformat_minor": 5
}
