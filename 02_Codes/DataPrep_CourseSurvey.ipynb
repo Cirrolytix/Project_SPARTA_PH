{
 "cells": [
  {
   "cell_type": "code",
   "execution_count": 1,
   "id": "9b8eb572",
   "metadata": {},
   "outputs": [],
   "source": [
    "import pandas as pd\n",
    "import glob\n",
    "import os"
   ]
  },
  {
   "cell_type": "code",
   "execution_count": 20,
   "id": "023d69d7",
   "metadata": {},
   "outputs": [
    {
     "name": "stdout",
     "output_type": "stream",
     "text": [
      "Enter the input directoryC:\\htdocs\\Project_SPARTA_PH\\01_Data\\Google_Form_Surveys\\Course_Evaluation\n"
     ]
    }
   ],
   "source": [
    "#path = r'C:\\htdocs\\Project_SPARTA_PH\\01_Data\\Google_Form_Surveys\\Course_Evaluation'\n",
    "inputdir = input('Enter the input directory')\n",
    "\n",
    "for xlsx_file in glob.glob(os.path.join(inputdir,\"*.xlsx\")):\n",
    "    data_xlsx = pd.read_excel(xlsx_file, index_col=None)\n",
    "    csv_file = os.path.splitext(xlsx_file)[0]+\".csv\"\n",
    "    data_xlsx.to_csv(csv_file, encoding='utf-8', index=False)"
   ]
  },
  {
   "cell_type": "markdown",
   "id": "1decbbbe",
   "metadata": {},
   "source": [
    "globbed_files = glob.glob(\"*.csv\") #creates a list of all csv files"
   ]
  },
  {
   "cell_type": "markdown",
   "id": "2fc34480",
   "metadata": {},
   "source": [
    "data = [] # pd.concat takes a list of dataframes as an agrument"
   ]
  },
  {
   "cell_type": "markdown",
   "id": "67feec1d",
   "metadata": {},
   "source": [
    "for csv in globbed_files:\n",
    "    frame = pd.read_csv(csv)\n",
    "    frame['filename'] = os.path.basename(csv)\n",
    "    data.append(frame)"
   ]
  },
  {
   "cell_type": "markdown",
   "id": "4e0b434a",
   "metadata": {},
   "source": [
    "path = r'C:\\htdocs\\Project_SPARTA_PH\\01_Data\\Google_Form_Surveys\\Course_Evaluation'\n",
    "files = os.listdir(path)\n",
    "\n",
    "df_total = pd.DataFrame()\n",
    "\n",
    "for file in files:\n",
    "    df_temp = pd.read_excel(path + \"\\\\\" + file)\n",
    "    df_temp['filename'] = file\n",
    "    df_temp['course'] = file.split('_')[1][:-5]\n",
    "    df_total = df_total.append(df_temp)"
   ]
  }
 ],
 "metadata": {
  "kernelspec": {
   "display_name": "Python 3",
   "language": "python",
   "name": "python3"
  },
  "language_info": {
   "codemirror_mode": {
    "name": "ipython",
    "version": 3
   },
   "file_extension": ".py",
   "mimetype": "text/x-python",
   "name": "python",
   "nbconvert_exporter": "python",
   "pygments_lexer": "ipython3",
   "version": "3.8.8"
  }
 },
 "nbformat": 4,
 "nbformat_minor": 5
}
